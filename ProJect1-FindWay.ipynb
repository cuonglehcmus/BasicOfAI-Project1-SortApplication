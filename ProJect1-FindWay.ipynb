{
 "cells": [
  {
   "cell_type": "code",
   "execution_count": 2,
   "metadata": {},
   "outputs": [
    {
     "name": "stdout",
     "output_type": "stream",
     "text": [
      "1.1666666666666667\n",
      "-1.1666666666666667\n",
      "1 0 0.0\n",
      "2 0 0.7592566023652966\n",
      "3 0 1.5185132047305927\n",
      "4 0 2.2777698070958894\n",
      "5 0 3.0370264094611863\n",
      "6 0 3.7962830118264823\n",
      "7 0 4.55553961419178\n",
      "1 1 0.6507913734559684\n",
      "2 1 0.10846522890932811\n",
      "3 1 0.8677218312746245\n",
      "4 1 1.6269784336399211\n",
      "5 1 2.3862350360052176\n",
      "6 1 3.1454916383705136\n",
      "7 1 3.904748240735811\n",
      "1 2 1.3015827469119368\n",
      "2 2 0.5423261445466403\n",
      "3 2 0.21693045781865608\n",
      "4 2 0.9761870601839527\n",
      "5 2 1.7354436625492493\n",
      "6 2 2.4947002649145453\n",
      "7 2 3.2539568672798427\n",
      "1 3 1.9523741203679053\n",
      "2 3 1.1931175180026088\n",
      "3 3 0.4338609156373123\n",
      "4 3 0.32539568672798436\n",
      "5 3 1.084652289093281\n",
      "6 3 1.843908891458577\n",
      "7 3 2.6031654938238744\n",
      "1 4 2.6031654938238735\n",
      "2 4 1.843908891458577\n",
      "3 4 1.0846522890932808\n",
      "4 4 0.3253956867279841\n",
      "5 4 0.4338609156373126\n",
      "6 4 1.1931175180026088\n",
      "7 4 1.9523741203679057\n",
      "1 5 3.2539568672798422\n",
      "2 5 2.4947002649145453\n",
      "3 5 1.7354436625492493\n",
      "4 5 0.9761870601839525\n",
      "5 5 0.2169304578186558\n",
      "6 5 0.5423261445466403\n",
      "7 5 1.3015827469119374\n",
      "1 6 3.9047482407358105\n",
      "2 6 3.1454916383705136\n",
      "3 6 2.3862350360052176\n",
      "4 6 1.6269784336399211\n",
      "5 6 0.8677218312746242\n",
      "6 6 0.10846522890932811\n",
      "7 6 0.6507913734559692\n",
      "1 7 4.555539614191779\n",
      "2 7 3.7962830118264823\n",
      "3 7 3.0370264094611863\n",
      "4 7 2.2777698070958894\n",
      "5 7 1.5185132047305927\n",
      "6 7 0.7592566023652966\n",
      "7 7 7.225235670382451e-16\n"
     ]
    },
    {
     "data": {
      "text/plain": [
       "<matplotlib.image.AxesImage at 0x11a4bda58>"
      ]
     },
     "execution_count": 2,
     "metadata": {},
     "output_type": "execute_result"
    },
    {
     "data": {
      "image/png": "[encoded data removed]",
      "text/plain": [
       "<Figure size 360x360 with 1 Axes>"
      ]
     },
     "metadata": {
      "needs_background": "light"
     },
     "output_type": "display_data"
    }
   ],
   "source": [
    "import numpy as np \n",
    "import math\n",
    "import matplotlib.pyplot as plt\n",
    "def calDistanceFromPointToLine(a,b,x,y):\n",
    "    return float(abs(a*x-y+b)/math.sqrt(a*a+1))\n",
    "def drawLineBetweenTwoPoint(arr,x1,y1,x2,y2):\n",
    "    #find a and b in fomula: y = ax + b\n",
    "    cofA = float((y1-y2)/(x1-x2))\n",
    "    cofB = float(y1 - (cofA*x1))\n",
    "    print(cofA)\n",
    "    print(cofB)\n",
    "    for i in range(min(y1,y2),max(y1,y2)+1):\n",
    "        for j in range(min(x1,x2),max(x1,x2)+1):\n",
    "            #print(i,j,abs(j-(cofA*i+cofB)))\n",
    "            print(j,i,calDistanceFromPointToLine(cofA,cofB,j,i))\n",
    "            if(calDistanceFromPointToLine(cofA,cofB,j,i))<0.5:\n",
    "                arr[i,j]=1\n",
    "\n",
    "\n",
    "plt.subplots(figsize=(5,5))\n",
    "plt.gca().invert_yaxis()\n",
    "arr = np.loadtxt('input1.txt')\n",
    "drawLineBetweenTwoPoint(arr,1,0,7,7) #... x,y -> x,y\n",
    "#print(arr)\n",
    "ax = plt.gca()\n",
    "ax.set_ylim(0,18)\n",
    "plt.imshow(arr)"
   ]
  },
  {
   "cell_type": "code",
   "execution_count": 3,
   "metadata": {},
   "outputs": [
    {
     "name": "stdout",
     "output_type": "stream",
     "text": [
      "22,18\n",
      "\n",
      "2,2,19,16\n",
      "\n",
      "3\n",
      "\n",
      "4,4,5,9,8,10,9,5\n",
      "\n",
      "8,12,8,17,13,12\n",
      "\n",
      "11,1,11,6,14,6,14,1\n"
     ]
    }
   ],
   "source": [
    "def loadFileInput(filename):\n",
    "    arrString = []\n",
    "    try:\n",
    "        fileInput = open(filename, 'r')\n",
    "        for line in fileInput:\n",
    "            arrString.append(line)\n",
    "    finally:\n",
    "        fileInput.close()\n",
    "    return arrString\n",
    "arr = loadFileInput('input.txt')\n",
    "for i in arr:\n",
    "    print(i)"
   ]
  },
  {
   "cell_type": "code",
   "execution_count": 194,
   "metadata": {
    "jupyter": {
     "source_hidden": true
    }
   },
   "outputs": [],
   "source": [
    "class POLYGONS:\n",
    "    filename = ''\n",
    "    arr = np.array([])\n",
    "    arrString = []\n",
    "    xS = 0\n",
    "    yS = 0\n",
    "    xD = 0\n",
    "    yD = 0\n",
    "    def __init__(self,filename):\n",
    "        POLYGONS.filename = filename\n",
    "        \n",
    "    def loadFileInput(self):\n",
    "        print('GotoHeare')\n",
    "        self.loadFileToString()\n",
    "        for i in POLYGONS.arrString:\n",
    "            print(i)\n",
    "    def loadFileToString(self):\n",
    "        fileInput = open(POLYGONS.filename, 'r')\n",
    "        for line in fileInput:\n",
    "            POLYGONS.arrString.append(line)\n",
    "            "
   ]
  },
  {
   "cell_type": "code",
   "execution_count": 195,
   "metadata": {
    "jupyter": {
     "source_hidden": true
    }
   },
   "outputs": [],
   "source": [
    "pol = POLYGONS('input.txt')"
   ]
  },
  {
   "cell_type": "code",
   "execution_count": null,
   "metadata": {},
   "outputs": [],
   "source": [
    "for line in arrString:\n",
    "    "
   ]
  }
 ],
 "metadata": {
  "kernelspec": {
   "display_name": "Python 3",
   "language": "python",
   "name": "python3"
  },
  "language_info": {
   "codemirror_mode": {
    "name": "ipython",
    "version": 3
   },
   "file_extension": ".py",
   "mimetype": "text/x-python",
   "name": "python",
   "nbconvert_exporter": "python",
   "pygments_lexer": "ipython3",
   "version": "3.7.3"
  }
 },
 "nbformat": 4,
 "nbformat_minor": 4
}
